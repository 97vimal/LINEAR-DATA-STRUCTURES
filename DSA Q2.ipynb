{
 "cells": [
  {
   "cell_type": "markdown",
   "id": "df8b2b43",
   "metadata": {},
   "source": [
    "# a program to reverse an array in place"
   ]
  },
  {
   "cell_type": "code",
   "execution_count": 3,
   "id": "1aeaa846",
   "metadata": {},
   "outputs": [
    {
     "name": "stdout",
     "output_type": "stream",
     "text": [
      "[15, 25, 120, 50, 150, 75, 100]\n",
      "REVERSED ARRAY\n",
      "[100, 75, 150, 50, 120, 25, 15]\n"
     ]
    }
   ],
   "source": [
    "def ReverseArray(Array, first, last):\n",
    "    while first < last:\n",
    "        Array[first],Array[last] = Array[last],Array[first]\n",
    "        \n",
    "        first += 1\n",
    "        last -= 1\n",
    "        \n",
    "        \n",
    "Array = [15,25,120,50,150,75,100]\n",
    "print(Array)\n",
    "ReverseArray(Array, 0, 6)\n",
    "print(\"REVERSED ARRAY\")\n",
    "print(Array)"
   ]
  },
  {
   "cell_type": "code",
   "execution_count": null,
   "id": "5e06f9ba",
   "metadata": {},
   "outputs": [],
   "source": []
  },
  {
   "cell_type": "code",
   "execution_count": 2,
   "id": "44667109",
   "metadata": {},
   "outputs": [
    {
     "data": {
      "text/plain": [
       "[9, 8, 6, 5, 1]"
      ]
     },
     "execution_count": 2,
     "metadata": {},
     "output_type": "execute_result"
    }
   ],
   "source": [
    "def Array(array):\n",
    "    return array[::-1]\n",
    "array = [1,5,6,8,9]\n",
    "Array(array)"
   ]
  },
  {
   "cell_type": "code",
   "execution_count": null,
   "id": "b4c9c2d7",
   "metadata": {},
   "outputs": [],
   "source": []
  },
  {
   "cell_type": "code",
   "execution_count": null,
   "id": "aba0aebd",
   "metadata": {},
   "outputs": [],
   "source": []
  }
 ],
 "metadata": {
  "kernelspec": {
   "display_name": "Python 3 (ipykernel)",
   "language": "python",
   "name": "python3"
  },
  "language_info": {
   "codemirror_mode": {
    "name": "ipython",
    "version": 3
   },
   "file_extension": ".py",
   "mimetype": "text/x-python",
   "name": "python",
   "nbconvert_exporter": "python",
   "pygments_lexer": "ipython3",
   "version": "3.9.7"
  }
 },
 "nbformat": 4,
 "nbformat_minor": 5
}
