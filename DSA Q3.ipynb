{
 "cells": [
  {
   "cell_type": "markdown",
   "id": "e483994c",
   "metadata": {},
   "source": [
    "# Write a program to check if two strings are a rotation of each other"
   ]
  },
  {
   "cell_type": "code",
   "execution_count": 4,
   "id": "16e6fc75",
   "metadata": {},
   "outputs": [
    {
     "name": "stdout",
     "output_type": "stream",
     "text": [
      "the string is rotating of each other\n"
     ]
    }
   ],
   "source": [
    "def is_rotation(string1,string2):\n",
    "    if len(string1) != len(string2):\n",
    "        return False\n",
    "    s = string1 + string1\n",
    "    s2 = string1+string1\n",
    "    return s2 in s\n",
    "\n",
    "string1 = \"ABCDEFG\"\n",
    "string2 = \"DEFGABC\"\n",
    "if is_rotation(string1,string2):\n",
    "    print(\"the string is rotating of each other\")\n",
    "else:\n",
    "    print(\"the string is not rotating of each other\")"
   ]
  },
  {
   "cell_type": "code",
   "execution_count": null,
   "id": "1b9a1149",
   "metadata": {},
   "outputs": [],
   "source": []
  },
  {
   "cell_type": "code",
   "execution_count": null,
   "id": "ec3b3de0",
   "metadata": {},
   "outputs": [],
   "source": []
  }
 ],
 "metadata": {
  "kernelspec": {
   "display_name": "Python 3 (ipykernel)",
   "language": "python",
   "name": "python3"
  },
  "language_info": {
   "codemirror_mode": {
    "name": "ipython",
    "version": 3
   },
   "file_extension": ".py",
   "mimetype": "text/x-python",
   "name": "python",
   "nbconvert_exporter": "python",
   "pygments_lexer": "ipython3",
   "version": "3.9.7"
  }
 },
 "nbformat": 4,
 "nbformat_minor": 5
}
