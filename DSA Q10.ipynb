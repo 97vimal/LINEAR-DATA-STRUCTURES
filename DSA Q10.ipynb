{
 "cells": [
  {
   "cell_type": "markdown",
   "id": "3f1fd347",
   "metadata": {},
   "source": [
    "# a program to find the smallest number using a stack."
   ]
  },
  {
   "cell_type": "code",
   "execution_count": 1,
   "id": "71dead48",
   "metadata": {},
   "outputs": [
    {
     "name": "stdout",
     "output_type": "stream",
     "text": [
      "How many numbers: 10\n",
      "Enter number: 22\n",
      "Enter number: 44\n",
      "Enter number: 66\n",
      "Enter number: 88\n",
      "Enter number: 13\n",
      "Enter number: 18\n",
      "Enter number: 66\n",
      "Enter number: 106\n",
      "Enter number: 55\n",
      "Enter number: 3\n",
      "Smallest number in the list is :   3\n"
     ]
    }
   ],
   "source": [
    "First = []\n",
    "num = int(input('How many numbers: '))\n",
    "\n",
    "for n in range(num):\n",
    "    numbers = int(input('Enter number: '))\n",
    "    First.append(numbers)\n",
    "    \n",
    "print(\"Smallest number in the list is :  \", min(First))"
   ]
  },
  {
   "cell_type": "code",
   "execution_count": null,
   "id": "a8d57255",
   "metadata": {},
   "outputs": [],
   "source": []
  }
 ],
 "metadata": {
  "kernelspec": {
   "display_name": "Python 3 (ipykernel)",
   "language": "python",
   "name": "python3"
  },
  "language_info": {
   "codemirror_mode": {
    "name": "ipython",
    "version": 3
   },
   "file_extension": ".py",
   "mimetype": "text/x-python",
   "name": "python",
   "nbconvert_exporter": "python",
   "pygments_lexer": "ipython3",
   "version": "3.9.7"
  }
 },
 "nbformat": 4,
 "nbformat_minor": 5
}
