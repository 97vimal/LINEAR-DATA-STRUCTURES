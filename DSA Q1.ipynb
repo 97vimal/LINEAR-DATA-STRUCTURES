{
 "cells": [
  {
   "cell_type": "markdown",
   "id": "fe995ad1",
   "metadata": {},
   "source": [
    "# a program to find all pairs of an integer array whose sum is equal to a given number"
   ]
  },
  {
   "cell_type": "code",
   "execution_count": 1,
   "id": "99839da7",
   "metadata": {},
   "outputs": [
    {
     "name": "stdout",
     "output_type": "stream",
     "text": [
      "(5,5)\n",
      "(6,4)\n",
      "(7,3)\n",
      "(8,2)\n",
      "(9,1)\n"
     ]
    }
   ],
   "source": [
    "def sum_pairs(array , num , sum):\n",
    "    for i in range(num):\n",
    "        for j in range(i+1 , num):\n",
    "            if array[i] + array[j] == sum:\n",
    "                print(\"(\",array[i],\",\",array[j],\")\",sep = \"\")\n",
    "                \n",
    "                \n",
    "                \n",
    "# drive the code\n",
    "array = [5,6,4,5,7,3,8,2,9,1]\n",
    "num = len(array)\n",
    "sum = 10\n",
    "\n",
    "\n",
    "sum_pairs(array, num, sum)"
   ]
  },
  {
   "cell_type": "code",
   "execution_count": null,
   "id": "f7e127f4",
   "metadata": {},
   "outputs": [],
   "source": []
  },
  {
   "cell_type": "code",
   "execution_count": null,
   "id": "41d7aa3e",
   "metadata": {},
   "outputs": [],
   "source": []
  },
  {
   "cell_type": "code",
   "execution_count": null,
   "id": "1aa65494",
   "metadata": {},
   "outputs": [],
   "source": []
  },
  {
   "cell_type": "code",
   "execution_count": null,
   "id": "fef50999",
   "metadata": {},
   "outputs": [],
   "source": []
  },
  {
   "cell_type": "code",
   "execution_count": null,
   "id": "d1331a4c",
   "metadata": {},
   "outputs": [],
   "source": []
  },
  {
   "cell_type": "code",
   "execution_count": null,
   "id": "de8f0701",
   "metadata": {},
   "outputs": [],
   "source": []
  }
 ],
 "metadata": {
  "kernelspec": {
   "display_name": "Python 3 (ipykernel)",
   "language": "python",
   "name": "python3"
  },
  "language_info": {
   "codemirror_mode": {
    "name": "ipython",
    "version": 3
   },
   "file_extension": ".py",
   "mimetype": "text/x-python",
   "name": "python",
   "nbconvert_exporter": "python",
   "pygments_lexer": "ipython3",
   "version": "3.9.7"
  }
 },
 "nbformat": 4,
 "nbformat_minor": 5
}
