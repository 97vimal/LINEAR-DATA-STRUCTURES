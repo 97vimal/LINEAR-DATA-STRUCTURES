{
 "cells": [
  {
   "cell_type": "markdown",
   "id": "f93b7fd4",
   "metadata": {},
   "source": [
    "# Write a program to print the first non-repeated character from a string"
   ]
  },
  {
   "cell_type": "code",
   "execution_count": 1,
   "id": "a2a1c0d8",
   "metadata": {},
   "outputs": [
    {
     "name": "stdout",
     "output_type": "stream",
     "text": [
      ">>>VIMAL\n",
      "the first founded string variable is:  V\n"
     ]
    }
   ],
   "source": [
    "str1 = input(\">>>\" )\n",
    "found = None\n",
    "\n",
    "for i in str1:\n",
    "    if (str1.count(i) == 1):\n",
    "        print(\"the first founded string variable is: \",i)\n",
    "        found = True\n",
    "        break\n",
    "\n",
    "if (found == False):\n",
    "    print(\"there is non repeating char in str1\")"
   ]
  },
  {
   "cell_type": "code",
   "execution_count": null,
   "id": "45cbbd96",
   "metadata": {},
   "outputs": [],
   "source": []
  }
 ],
 "metadata": {
  "kernelspec": {
   "display_name": "Python 3 (ipykernel)",
   "language": "python",
   "name": "python3"
  },
  "language_info": {
   "codemirror_mode": {
    "name": "ipython",
    "version": 3
   },
   "file_extension": ".py",
   "mimetype": "text/x-python",
   "name": "python",
   "nbconvert_exporter": "python",
   "pygments_lexer": "ipython3",
   "version": "3.9.7"
  }
 },
 "nbformat": 4,
 "nbformat_minor": 5
}
